{
 "cells": [
  {
   "cell_type": "markdown",
   "metadata": {
    "id": "UO493L2--mtc"
   },
   "source": [
    "# **Predicting House Prices with Machine Learning**\n",
    "\n",
    "### **Introduction**\n",
    "In this project, we aim to tackle a classic and widely studied regression problem — predicting house prices based on various features of residential properties. We are using the ***House Prices - Advanced Regression Techniques*** dataset from Kaggle, which provides comprehensive information on houses in Ames, Iowa, including 79 explanatory variables describing every aspect of residential homes.\n",
    "\n",
    "### **Objective**\n",
    "The primary goal of this project is to build a robust machine learning model that can accurately predict the final sale price of a house.\n",
    "\n",
    "This involves:\n",
    "\n",
    "*Understanding and exploring the dataset through Exploratory Data Analysis (EDA).*\n",
    "\n",
    "*Preprocessing the data, including handling missing values, encoding categorical variables, and feature scaling.*\n",
    "\n",
    "*Building, evaluating, and comparing multiple machine learning models to identify the most effective approach.*\n",
    "\n",
    "*Applying techniques to optimize model performance, such as hyperparameter tuning, regularization, and ensemble methods.*\n",
    "\n",
    "This project not only showcases practical application of machine learning and data science workflows but also emphasizes the importance of thoughtful feature engineering and model evaluation in achieving reliable predictions.\n",
    "\n",
    "\n",
    "\n"
   ]
  },
  {
   "cell_type": "markdown",
   "metadata": {
    "id": "evStHmdkvQRe"
   },
   "source": [
    "## **Step 1: Importing Libraries**\n",
    "Before diving into the analysis and modeling, it’s essential to import all the necessary libraries. Each library here serves a specific purpose in the data science workflow:\n",
    "\n",
    "**pandas:** Used for handling and manipulating structured data. It provides DataFrame and Series objects for working with tabular data.\n",
    "\n",
    "**numpy:** Useful for numerical operations, especially those involving arrays, matrices, and mathematical functions.\n",
    "\n",
    "**matplotlib.pyplot:** A low-level plotting library to create static, interactive, and animated plots.\n",
    "\n",
    "**seaborn:** Built on top of Matplotlib, this library makes it easier to create visually appealing statistical graphics and simplifies many tasks like plotting correlations, distributions, etc.\n",
    "\n",
    "**train_test_split:** Splits the data into training and testing sets.\n",
    "\n",
    "**GridSearchCV:** Used for hyperparameter tuning by exhaustively searching over a specified parameter grid.\n",
    "\n",
    "**cross_val_score:** Performs cross-validation to evaluate model performance more reliably.\n",
    "\n",
    "**StandardScaler:** Standardizes features by removing the mean and scaling to unit variance. This is important for models sensitive to feature scaling (like linear regression).\n",
    "\n",
    "**SimpleImputer:** Used to fill in missing values with strategies like mean, median, or most frequent — an essential part of data cleaning.\n",
    "\n",
    "**LinearRegression:** The basic linear regression model.\n",
    "\n",
    "**Ridge and Lasso:** Regularized linear regression techniques that can help reduce overfitting and handle multicollinearity.\n",
    "\n",
    "**RandomForestRegressor:** A powerful ensemble model that works well with both linear and non-linear data.\n",
    "\n",
    "**mean_squared_error:** Measures the average squared difference between predicted and actual values. Lower values are better.\n",
    "\n",
    "**r2_score:** Represents the proportion of the variance in the dependent variable that is predictable from the independent variables. Closer to 1 indicates better model performance."
   ]
  },
  {
   "cell_type": "code",
   "execution_count": 77,
   "metadata": {
    "executionInfo": {
     "elapsed": 46,
     "status": "ok",
     "timestamp": 1745674579317,
     "user": {
      "displayName": "Usama Versiani",
      "userId": "15766572443719872235"
     },
     "user_tz": -240
    },
    "id": "XOYo4waN8pxW"
   },
   "outputs": [],
   "source": [
    "# Importing the libraries\n",
    "\n",
    "import pandas as pd\n",
    "import numpy as np\n",
    "import matplotlib.pyplot as plt\n",
    "import seaborn as sns\n",
    "from sklearn.model_selection import train_test_split, GridSearchCV, cross_val_score\n",
    "from sklearn.preprocessing import StandardScaler, LabelEncoder\n",
    "from sklearn.impute import SimpleImputer\n",
    "from sklearn.linear_model import LinearRegression, Ridge, Lasso\n",
    "from sklearn.ensemble import RandomForestRegressor\n",
    "from sklearn.metrics import mean_squared_error, r2_score\n",
    "\n",
    "# Adjusting Display Options\n",
    "pd.set_option('display.max_colwidth', None)\n",
    "pd.set_option('display.max_rows', None)\n",
    "pd.set_option('display.max_columns', None)"
   ]
  },
  {
   "cell_type": "markdown",
   "metadata": {
    "id": "apZoYoKlxncd"
   },
   "source": [
    "## **Step 2: Importing Data & Exploratory Data Analysis (EDA)**\n",
    "Let’s start by importing the training data and converting it into a pandas DataFrame. Once loaded, we’ll take a quick look at the first few rows to ensure the data has been imported correctly and to get an initial sense of its structure."
   ]
  },
  {
   "cell_type": "code",
   "execution_count": 78,
   "metadata": {
    "colab": {
     "base_uri": "https://localhost:8080/"
    },
    "collapsed": true,
    "executionInfo": {
     "elapsed": 34,
     "status": "ok",
     "timestamp": 1745674584302,
     "user": {
      "displayName": "Usama Versiani",
      "userId": "15766572443719872235"
     },
     "user_tz": -240
    },
    "id": "Q5dF5jS_l-r1",
    "jupyter": {
     "outputs_hidden": true
    },
    "outputId": "d5324694-a71a-4d52-9b94-5010c430c2e4"
   },
   "outputs": [
    {
     "name": "stdout",
     "output_type": "stream",
     "text": [
      "   Id  MSSubClass MSZoning  LotFrontage  LotArea Street Alley LotShape  \\\n",
      "0   1          60       RL         65.0     8450   Pave   NaN      Reg   \n",
      "1   2          20       RL         80.0     9600   Pave   NaN      Reg   \n",
      "2   3          60       RL         68.0    11250   Pave   NaN      IR1   \n",
      "3   4          70       RL         60.0     9550   Pave   NaN      IR1   \n",
      "4   5          60       RL         84.0    14260   Pave   NaN      IR1   \n",
      "\n",
      "  LandContour Utilities LotConfig LandSlope Neighborhood Condition1  \\\n",
      "0         Lvl    AllPub    Inside       Gtl      CollgCr       Norm   \n",
      "1         Lvl    AllPub       FR2       Gtl      Veenker      Feedr   \n",
      "2         Lvl    AllPub    Inside       Gtl      CollgCr       Norm   \n",
      "3         Lvl    AllPub    Corner       Gtl      Crawfor       Norm   \n",
      "4         Lvl    AllPub       FR2       Gtl      NoRidge       Norm   \n",
      "\n",
      "  Condition2 BldgType HouseStyle  OverallQual  OverallCond  YearBuilt  \\\n",
      "0       Norm     1Fam     2Story            7            5       2003   \n",
      "1       Norm     1Fam     1Story            6            8       1976   \n",
      "2       Norm     1Fam     2Story            7            5       2001   \n",
      "3       Norm     1Fam     2Story            7            5       1915   \n",
      "4       Norm     1Fam     2Story            8            5       2000   \n",
      "\n",
      "   YearRemodAdd RoofStyle RoofMatl Exterior1st Exterior2nd MasVnrType  \\\n",
      "0          2003     Gable  CompShg     VinylSd     VinylSd    BrkFace   \n",
      "1          1976     Gable  CompShg     MetalSd     MetalSd        NaN   \n",
      "2          2002     Gable  CompShg     VinylSd     VinylSd    BrkFace   \n",
      "3          1970     Gable  CompShg     Wd Sdng     Wd Shng        NaN   \n",
      "4          2000     Gable  CompShg     VinylSd     VinylSd    BrkFace   \n",
      "\n",
      "   MasVnrArea ExterQual ExterCond Foundation BsmtQual BsmtCond BsmtExposure  \\\n",
      "0       196.0        Gd        TA      PConc       Gd       TA           No   \n",
      "1         0.0        TA        TA     CBlock       Gd       TA           Gd   \n",
      "2       162.0        Gd        TA      PConc       Gd       TA           Mn   \n",
      "3         0.0        TA        TA     BrkTil       TA       Gd           No   \n",
      "4       350.0        Gd        TA      PConc       Gd       TA           Av   \n",
      "\n",
      "  BsmtFinType1  BsmtFinSF1 BsmtFinType2  BsmtFinSF2  BsmtUnfSF  TotalBsmtSF  \\\n",
      "0          GLQ         706          Unf           0        150          856   \n",
      "1          ALQ         978          Unf           0        284         1262   \n",
      "2          GLQ         486          Unf           0        434          920   \n",
      "3          ALQ         216          Unf           0        540          756   \n",
      "4          GLQ         655          Unf           0        490         1145   \n",
      "\n",
      "  Heating HeatingQC CentralAir Electrical  1stFlrSF  2ndFlrSF  LowQualFinSF  \\\n",
      "0    GasA        Ex          Y      SBrkr       856       854             0   \n",
      "1    GasA        Ex          Y      SBrkr      1262         0             0   \n",
      "2    GasA        Ex          Y      SBrkr       920       866             0   \n",
      "3    GasA        Gd          Y      SBrkr       961       756             0   \n",
      "4    GasA        Ex          Y      SBrkr      1145      1053             0   \n",
      "\n",
      "   GrLivArea  BsmtFullBath  BsmtHalfBath  FullBath  HalfBath  BedroomAbvGr  \\\n",
      "0       1710             1             0         2         1             3   \n",
      "1       1262             0             1         2         0             3   \n",
      "2       1786             1             0         2         1             3   \n",
      "3       1717             1             0         1         0             3   \n",
      "4       2198             1             0         2         1             4   \n",
      "\n",
      "   KitchenAbvGr KitchenQual  TotRmsAbvGrd Functional  Fireplaces FireplaceQu  \\\n",
      "0             1          Gd             8        Typ           0         NaN   \n",
      "1             1          TA             6        Typ           1          TA   \n",
      "2             1          Gd             6        Typ           1          TA   \n",
      "3             1          Gd             7        Typ           1          Gd   \n",
      "4             1          Gd             9        Typ           1          TA   \n",
      "\n",
      "  GarageType  GarageYrBlt GarageFinish  GarageCars  GarageArea GarageQual  \\\n",
      "0     Attchd       2003.0          RFn           2         548         TA   \n",
      "1     Attchd       1976.0          RFn           2         460         TA   \n",
      "2     Attchd       2001.0          RFn           2         608         TA   \n",
      "3     Detchd       1998.0          Unf           3         642         TA   \n",
      "4     Attchd       2000.0          RFn           3         836         TA   \n",
      "\n",
      "  GarageCond PavedDrive  WoodDeckSF  OpenPorchSF  EnclosedPorch  3SsnPorch  \\\n",
      "0         TA          Y           0           61              0          0   \n",
      "1         TA          Y         298            0              0          0   \n",
      "2         TA          Y           0           42              0          0   \n",
      "3         TA          Y           0           35            272          0   \n",
      "4         TA          Y         192           84              0          0   \n",
      "\n",
      "   ScreenPorch  PoolArea PoolQC Fence MiscFeature  MiscVal  MoSold  YrSold  \\\n",
      "0            0         0    NaN   NaN         NaN        0       2    2008   \n",
      "1            0         0    NaN   NaN         NaN        0       5    2007   \n",
      "2            0         0    NaN   NaN         NaN        0       9    2008   \n",
      "3            0         0    NaN   NaN         NaN        0       2    2006   \n",
      "4            0         0    NaN   NaN         NaN        0      12    2008   \n",
      "\n",
      "  SaleType SaleCondition  SalePrice  \n",
      "0       WD        Normal     208500  \n",
      "1       WD        Normal     181500  \n",
      "2       WD        Normal     223500  \n",
      "3       WD       Abnorml     140000  \n",
      "4       WD        Normal     250000  \n"
     ]
    }
   ],
   "source": [
    "# Importing Training Data\n",
    "filepath = 'train.csv'\n",
    "\n",
    "df = pd.read_csv(filepath)\n",
    "\n",
    "print(df.head())"
   ]
  },
  {
   "cell_type": "markdown",
   "metadata": {
    "id": "Wz0ufL3Az2Yo"
   },
   "source": [
    "Next, we'll perform some basic exploratory data analysis to check the shape of the dataset and inspect the data types of each column. This helps us understand the structure and prepare for further preprocessing."
   ]
  },
  {
   "cell_type": "code",
   "execution_count": 79,
   "metadata": {
    "colab": {
     "base_uri": "https://localhost:8080/"
    },
    "collapsed": true,
    "executionInfo": {
     "elapsed": 16,
     "status": "ok",
     "timestamp": 1745674586953,
     "user": {
      "displayName": "Usama Versiani",
      "userId": "15766572443719872235"
     },
     "user_tz": -240
    },
    "id": "lkO4OspXDBNj",
    "jupyter": {
     "outputs_hidden": true
    },
    "outputId": "a54cd3bd-8f6a-44cd-92d9-7e9c5c151dde"
   },
   "outputs": [
    {
     "name": "stdout",
     "output_type": "stream",
     "text": [
      "(1460, 81)\n",
      "<class 'pandas.core.frame.DataFrame'>\n",
      "RangeIndex: 1460 entries, 0 to 1459\n",
      "Data columns (total 81 columns):\n",
      " #   Column         Non-Null Count  Dtype  \n",
      "---  ------         --------------  -----  \n",
      " 0   Id             1460 non-null   int64  \n",
      " 1   MSSubClass     1460 non-null   int64  \n",
      " 2   MSZoning       1460 non-null   object \n",
      " 3   LotFrontage    1201 non-null   float64\n",
      " 4   LotArea        1460 non-null   int64  \n",
      " 5   Street         1460 non-null   object \n",
      " 6   Alley          91 non-null     object \n",
      " 7   LotShape       1460 non-null   object \n",
      " 8   LandContour    1460 non-null   object \n",
      " 9   Utilities      1460 non-null   object \n",
      " 10  LotConfig      1460 non-null   object \n",
      " 11  LandSlope      1460 non-null   object \n",
      " 12  Neighborhood   1460 non-null   object \n",
      " 13  Condition1     1460 non-null   object \n",
      " 14  Condition2     1460 non-null   object \n",
      " 15  BldgType       1460 non-null   object \n",
      " 16  HouseStyle     1460 non-null   object \n",
      " 17  OverallQual    1460 non-null   int64  \n",
      " 18  OverallCond    1460 non-null   int64  \n",
      " 19  YearBuilt      1460 non-null   int64  \n",
      " 20  YearRemodAdd   1460 non-null   int64  \n",
      " 21  RoofStyle      1460 non-null   object \n",
      " 22  RoofMatl       1460 non-null   object \n",
      " 23  Exterior1st    1460 non-null   object \n",
      " 24  Exterior2nd    1460 non-null   object \n",
      " 25  MasVnrType     588 non-null    object \n",
      " 26  MasVnrArea     1452 non-null   float64\n",
      " 27  ExterQual      1460 non-null   object \n",
      " 28  ExterCond      1460 non-null   object \n",
      " 29  Foundation     1460 non-null   object \n",
      " 30  BsmtQual       1423 non-null   object \n",
      " 31  BsmtCond       1423 non-null   object \n",
      " 32  BsmtExposure   1422 non-null   object \n",
      " 33  BsmtFinType1   1423 non-null   object \n",
      " 34  BsmtFinSF1     1460 non-null   int64  \n",
      " 35  BsmtFinType2   1422 non-null   object \n",
      " 36  BsmtFinSF2     1460 non-null   int64  \n",
      " 37  BsmtUnfSF      1460 non-null   int64  \n",
      " 38  TotalBsmtSF    1460 non-null   int64  \n",
      " 39  Heating        1460 non-null   object \n",
      " 40  HeatingQC      1460 non-null   object \n",
      " 41  CentralAir     1460 non-null   object \n",
      " 42  Electrical     1459 non-null   object \n",
      " 43  1stFlrSF       1460 non-null   int64  \n",
      " 44  2ndFlrSF       1460 non-null   int64  \n",
      " 45  LowQualFinSF   1460 non-null   int64  \n",
      " 46  GrLivArea      1460 non-null   int64  \n",
      " 47  BsmtFullBath   1460 non-null   int64  \n",
      " 48  BsmtHalfBath   1460 non-null   int64  \n",
      " 49  FullBath       1460 non-null   int64  \n",
      " 50  HalfBath       1460 non-null   int64  \n",
      " 51  BedroomAbvGr   1460 non-null   int64  \n",
      " 52  KitchenAbvGr   1460 non-null   int64  \n",
      " 53  KitchenQual    1460 non-null   object \n",
      " 54  TotRmsAbvGrd   1460 non-null   int64  \n",
      " 55  Functional     1460 non-null   object \n",
      " 56  Fireplaces     1460 non-null   int64  \n",
      " 57  FireplaceQu    770 non-null    object \n",
      " 58  GarageType     1379 non-null   object \n",
      " 59  GarageYrBlt    1379 non-null   float64\n",
      " 60  GarageFinish   1379 non-null   object \n",
      " 61  GarageCars     1460 non-null   int64  \n",
      " 62  GarageArea     1460 non-null   int64  \n",
      " 63  GarageQual     1379 non-null   object \n",
      " 64  GarageCond     1379 non-null   object \n",
      " 65  PavedDrive     1460 non-null   object \n",
      " 66  WoodDeckSF     1460 non-null   int64  \n",
      " 67  OpenPorchSF    1460 non-null   int64  \n",
      " 68  EnclosedPorch  1460 non-null   int64  \n",
      " 69  3SsnPorch      1460 non-null   int64  \n",
      " 70  ScreenPorch    1460 non-null   int64  \n",
      " 71  PoolArea       1460 non-null   int64  \n",
      " 72  PoolQC         7 non-null      object \n",
      " 73  Fence          281 non-null    object \n",
      " 74  MiscFeature    54 non-null     object \n",
      " 75  MiscVal        1460 non-null   int64  \n",
      " 76  MoSold         1460 non-null   int64  \n",
      " 77  YrSold         1460 non-null   int64  \n",
      " 78  SaleType       1460 non-null   object \n",
      " 79  SaleCondition  1460 non-null   object \n",
      " 80  SalePrice      1460 non-null   int64  \n",
      "dtypes: float64(3), int64(35), object(43)\n",
      "memory usage: 924.0+ KB\n",
      "None\n"
     ]
    }
   ],
   "source": [
    "# EDA to confirm the shape of data, column names & data types\n",
    "\n",
    "print(df.shape)\n",
    "print(df.info())"
   ]
  },
  {
   "cell_type": "markdown",
   "metadata": {
    "id": "2OjPYkWk11QV"
   },
   "source": [
    "Our initial EDA shows that the data type of `MSSubClass` is numeric, which it shouldn't be. According to the *`data_description.txt`* file, this column represents the **type of dwelling**, making it a categorical feature. Therefore, let's convert it from numeric to string to reflect its true nature."
   ]
  },
  {
   "cell_type": "code",
   "execution_count": 80,
   "metadata": {
    "colab": {
     "base_uri": "https://localhost:8080/"
    },
    "collapsed": true,
    "executionInfo": {
     "elapsed": 9,
     "status": "ok",
     "timestamp": 1745674590974,
     "user": {
      "displayName": "Usama Versiani",
      "userId": "15766572443719872235"
     },
     "user_tz": -240
    },
    "id": "Oo_L7bWnuCLe",
    "jupyter": {
     "outputs_hidden": true
    },
    "outputId": "b357df8e-0e0c-48f5-c0ba-6bc8726bcda3"
   },
   "outputs": [
    {
     "name": "stdout",
     "output_type": "stream",
     "text": [
      "<class 'pandas.core.frame.DataFrame'>\n",
      "RangeIndex: 1460 entries, 0 to 1459\n",
      "Data columns (total 81 columns):\n",
      " #   Column         Non-Null Count  Dtype  \n",
      "---  ------         --------------  -----  \n",
      " 0   Id             1460 non-null   int64  \n",
      " 1   MSSubClass     1460 non-null   object \n",
      " 2   MSZoning       1460 non-null   object \n",
      " 3   LotFrontage    1201 non-null   float64\n",
      " 4   LotArea        1460 non-null   int64  \n",
      " 5   Street         1460 non-null   object \n",
      " 6   Alley          91 non-null     object \n",
      " 7   LotShape       1460 non-null   object \n",
      " 8   LandContour    1460 non-null   object \n",
      " 9   Utilities      1460 non-null   object \n",
      " 10  LotConfig      1460 non-null   object \n",
      " 11  LandSlope      1460 non-null   object \n",
      " 12  Neighborhood   1460 non-null   object \n",
      " 13  Condition1     1460 non-null   object \n",
      " 14  Condition2     1460 non-null   object \n",
      " 15  BldgType       1460 non-null   object \n",
      " 16  HouseStyle     1460 non-null   object \n",
      " 17  OverallQual    1460 non-null   int64  \n",
      " 18  OverallCond    1460 non-null   int64  \n",
      " 19  YearBuilt      1460 non-null   int64  \n",
      " 20  YearRemodAdd   1460 non-null   int64  \n",
      " 21  RoofStyle      1460 non-null   object \n",
      " 22  RoofMatl       1460 non-null   object \n",
      " 23  Exterior1st    1460 non-null   object \n",
      " 24  Exterior2nd    1460 non-null   object \n",
      " 25  MasVnrType     588 non-null    object \n",
      " 26  MasVnrArea     1452 non-null   float64\n",
      " 27  ExterQual      1460 non-null   object \n",
      " 28  ExterCond      1460 non-null   object \n",
      " 29  Foundation     1460 non-null   object \n",
      " 30  BsmtQual       1423 non-null   object \n",
      " 31  BsmtCond       1423 non-null   object \n",
      " 32  BsmtExposure   1422 non-null   object \n",
      " 33  BsmtFinType1   1423 non-null   object \n",
      " 34  BsmtFinSF1     1460 non-null   int64  \n",
      " 35  BsmtFinType2   1422 non-null   object \n",
      " 36  BsmtFinSF2     1460 non-null   int64  \n",
      " 37  BsmtUnfSF      1460 non-null   int64  \n",
      " 38  TotalBsmtSF    1460 non-null   int64  \n",
      " 39  Heating        1460 non-null   object \n",
      " 40  HeatingQC      1460 non-null   object \n",
      " 41  CentralAir     1460 non-null   object \n",
      " 42  Electrical     1459 non-null   object \n",
      " 43  1stFlrSF       1460 non-null   int64  \n",
      " 44  2ndFlrSF       1460 non-null   int64  \n",
      " 45  LowQualFinSF   1460 non-null   int64  \n",
      " 46  GrLivArea      1460 non-null   int64  \n",
      " 47  BsmtFullBath   1460 non-null   int64  \n",
      " 48  BsmtHalfBath   1460 non-null   int64  \n",
      " 49  FullBath       1460 non-null   int64  \n",
      " 50  HalfBath       1460 non-null   int64  \n",
      " 51  BedroomAbvGr   1460 non-null   int64  \n",
      " 52  KitchenAbvGr   1460 non-null   int64  \n",
      " 53  KitchenQual    1460 non-null   object \n",
      " 54  TotRmsAbvGrd   1460 non-null   int64  \n",
      " 55  Functional     1460 non-null   object \n",
      " 56  Fireplaces     1460 non-null   int64  \n",
      " 57  FireplaceQu    770 non-null    object \n",
      " 58  GarageType     1379 non-null   object \n",
      " 59  GarageYrBlt    1379 non-null   float64\n",
      " 60  GarageFinish   1379 non-null   object \n",
      " 61  GarageCars     1460 non-null   int64  \n",
      " 62  GarageArea     1460 non-null   int64  \n",
      " 63  GarageQual     1379 non-null   object \n",
      " 64  GarageCond     1379 non-null   object \n",
      " 65  PavedDrive     1460 non-null   object \n",
      " 66  WoodDeckSF     1460 non-null   int64  \n",
      " 67  OpenPorchSF    1460 non-null   int64  \n",
      " 68  EnclosedPorch  1460 non-null   int64  \n",
      " 69  3SsnPorch      1460 non-null   int64  \n",
      " 70  ScreenPorch    1460 non-null   int64  \n",
      " 71  PoolArea       1460 non-null   int64  \n",
      " 72  PoolQC         7 non-null      object \n",
      " 73  Fence          281 non-null    object \n",
      " 74  MiscFeature    54 non-null     object \n",
      " 75  MiscVal        1460 non-null   int64  \n",
      " 76  MoSold         1460 non-null   int64  \n",
      " 77  YrSold         1460 non-null   int64  \n",
      " 78  SaleType       1460 non-null   object \n",
      " 79  SaleCondition  1460 non-null   object \n",
      " 80  SalePrice      1460 non-null   int64  \n",
      "dtypes: float64(3), int64(34), object(44)\n",
      "memory usage: 924.0+ KB\n",
      "None\n"
     ]
    }
   ],
   "source": [
    "# Convert numerical column that are supposed to be categorical\n",
    "\n",
    "df['MSSubClass'] = df['MSSubClass'].astype(str)\n",
    "\n",
    "# Confirm the data type has been changed correctly\n",
    "print(df.info())"
   ]
  },
  {
   "cell_type": "markdown",
   "metadata": {
    "id": "loUQcYWCJiQj"
   },
   "source": [
    "Next, We will analyze distribution of the target variable  i.e `SalePrice`"
   ]
  },
  {
   "cell_type": "code",
   "execution_count": 81,
   "metadata": {
    "colab": {
     "base_uri": "https://localhost:8080/",
     "height": 490
    },
    "collapsed": true,
    "executionInfo": {
     "elapsed": 554,
     "status": "ok",
     "timestamp": 1745674594306,
     "user": {
      "displayName": "Usama Versiani",
      "userId": "15766572443719872235"
     },
     "user_tz": -240
    },
    "id": "owAhjsFSuask",
    "jupyter": {
     "outputs_hidden": true
    },
    "outputId": "f0f56981-d6b1-49fa-d62e-fa47c977a81d"
   },
   "outputs": [
    {
     "data": {
      "text/plain": [
       "Text(0.5, 1.0, 'Distribution of SalePrice')"
      ]
     },
     "execution_count": 81,
     "metadata": {},
     "output_type": "execute_result"
    },
    {
     "data": {
      "image/png": "[encoded data removed]",
      "text/plain": [
       "<Figure size 640x480 with 1 Axes>"
      ]
     },
     "metadata": {},
     "output_type": "display_data"
    }
   ],
   "source": [
    "# Target Variable analysis\n",
    "sns.histplot(df['SalePrice'], kde=True)\n",
    "plt.title(\"Distribution of SalePrice\")"
   ]
  },
  {
   "cell_type": "markdown",
   "metadata": {
    "id": "uGrqeNVEJvgQ"
   },
   "source": [
    "The target variable was found to be **right skewed**. Machine learning models, especially linear models, perform better when the target variable is more normally distributed.\n",
    "\n",
    "Therefore, we will apply **log transformation** to improve model performance.\n",
    "\n",
    "We apply a `np.log1p(x)` log transformation that computes `log(1 + x)`, which safely handles zero or small values.\n",
    "\n",
    "After the transformation, SalePrice becomes more symmetrical and bell-shaped, making it easier for the model to learn patterns.\n"
   ]
  },
  {
   "cell_type": "code",
   "execution_count": 82,
   "metadata": {
    "colab": {
     "base_uri": "https://localhost:8080/",
     "height": 490
    },
    "collapsed": true,
    "executionInfo": {
     "elapsed": 357,
     "status": "ok",
     "timestamp": 1745674598550,
     "user": {
      "displayName": "Usama Versiani",
      "userId": "15766572443719872235"
     },
     "user_tz": -240
    },
    "id": "DcwO-_pqunnX",
    "jupyter": {
     "outputs_hidden": true
    },
    "outputId": "267cb63c-58fa-4da9-a0d4-d64a2b370f89"
   },
   "outputs": [
    {
     "data": {
      "text/plain": [
       "Text(0.5, 1.0, 'Distribution of SalePrice')"
      ]
     },
     "execution_count": 82,
     "metadata": {},
     "output_type": "execute_result"
    },
    {
     "data": {
      "image/png": "[encoded data removed]",
      "text/plain": [
       "<Figure size 640x480 with 1 Axes>"
      ]
     },
     "metadata": {},
     "output_type": "display_data"
    }
   ],
   "source": [
    "# Applying Log Transformation\n",
    "\n",
    "df['SalePrice'] = np.log1p(df['SalePrice'])\n",
    "\n",
    "sns.histplot(df['SalePrice'], kde=True)\n",
    "plt.title(\"Distribution of SalePrice\")"
   ]
  },
  {
   "cell_type": "markdown",
   "metadata": {
    "id": "MQhbkdWa3VS_"
   },
   "source": [
    "Next, we examine the columns with missing values to understand the extent of missing data and determine how best to handle them during preprocessing."
   ]
  },
  {
   "cell_type": "code",
   "execution_count": 83,
   "metadata": {
    "colab": {
     "base_uri": "https://localhost:8080/"
    },
    "executionInfo": {
     "elapsed": 5,
     "status": "ok",
     "timestamp": 1745674600369,
     "user": {
      "displayName": "Usama Versiani",
      "userId": "15766572443719872235"
     },
     "user_tz": -240
    },
    "id": "lJMyG5r3u4Zz",
    "outputId": "c648d7bb-dad9-4497-e550-0c6f9d27572c"
   },
   "outputs": [
    {
     "name": "stdout",
     "output_type": "stream",
     "text": [
      "PoolQC          1453\n",
      "MiscFeature     1406\n",
      "Alley           1369\n",
      "Fence           1179\n",
      "MasVnrType       872\n",
      "FireplaceQu      690\n",
      "LotFrontage      259\n",
      "GarageType        81\n",
      "GarageYrBlt       81\n",
      "GarageFinish      81\n",
      "GarageQual        81\n",
      "GarageCond        81\n",
      "BsmtExposure      38\n",
      "BsmtFinType2      38\n",
      "BsmtQual          37\n",
      "BsmtCond          37\n",
      "BsmtFinType1      37\n",
      "MasVnrArea         8\n",
      "Electrical         1\n",
      "dtype: int64\n"
     ]
    }
   ],
   "source": [
    "# missing values handling\n",
    "\n",
    "missing = df.isnull().sum()\n",
    "missing = missing[missing > 0].sort_values(ascending=False)\n",
    "print(missing)\n"
   ]
  },
  {
   "cell_type": "markdown",
   "metadata": {
    "id": "nJ-ttXDeKAZY"
   },
   "source": [
    "We will handle missing values by imputing null values in categorical columns with \"None\" and in numerical columns with the median of that column"
   ]
  },
  {
   "cell_type": "code",
   "execution_count": 84,
   "metadata": {
    "executionInfo": {
     "elapsed": 40,
     "status": "ok",
     "timestamp": 1745674602453,
     "user": {
      "displayName": "Usama Versiani",
      "userId": "15766572443719872235"
     },
     "user_tz": -240
    },
    "id": "G0iPgTAUvAOE"
   },
   "outputs": [],
   "source": [
    "# Categorical columns (usually strings/objects)\n",
    "categorical_cols = df.select_dtypes(include=['object']).columns\n",
    "\n",
    "# Numerical columns (int or float)\n",
    "numerical_cols = df.select_dtypes(exclude=['object']).columns\n",
    "\n",
    "df[categorical_cols] = df[categorical_cols].fillna(\"None\")\n",
    "\n",
    "df[numerical_cols] = df[numerical_cols].fillna(df[numerical_cols].median())"
   ]
  },
  {
   "cell_type": "markdown",
   "metadata": {
    "id": "a_qalW91K_Vh"
   },
   "source": [
    "Let's recheck to ensure there are no missing values remaining in our dataset"
   ]
  },
  {
   "cell_type": "code",
   "execution_count": 85,
   "metadata": {
    "colab": {
     "base_uri": "https://localhost:8080/"
    },
    "collapsed": true,
    "executionInfo": {
     "elapsed": 24,
     "status": "ok",
     "timestamp": 1745674604437,
     "user": {
      "displayName": "Usama Versiani",
      "userId": "15766572443719872235"
     },
     "user_tz": -240
    },
    "id": "-HsTqqJ_vnEb",
    "jupyter": {
     "outputs_hidden": true
    },
    "outputId": "772547d3-64eb-49ef-fa81-f20a0b43a05a"
   },
   "outputs": [
    {
     "name": "stdout",
     "output_type": "stream",
     "text": [
      "Series([], dtype: int64)\n"
     ]
    }
   ],
   "source": [
    "# recheck missing values\n",
    "\n",
    "missing = df.isnull().sum()\n",
    "missing = missing[missing > 0].sort_values(ascending=False)\n",
    "print(missing)"
   ]
  },
  {
   "cell_type": "markdown",
   "metadata": {
    "id": "Y0MdGICpLZRo"
   },
   "source": [
    "## **Step 3: Feature Engineering**\n",
    "\n",
    "Since `Id` is only an identifier for each row and doesn't provide any predictive value, it should be dropped to avoid noise in the model.\n",
    "\n",
    "Additionally, we will select all the categorical columns and apply **one-hot encoding** to convert those categorical variables into binary columns."
   ]
  },
  {
   "cell_type": "code",
   "execution_count": 86,
   "metadata": {
    "executionInfo": {
     "elapsed": 66,
     "status": "ok",
     "timestamp": 1745674606231,
     "user": {
      "displayName": "Usama Versiani",
      "userId": "15766572443719872235"
     },
     "user_tz": -240
    },
    "id": "du0cq8sjvu__"
   },
   "outputs": [],
   "source": [
    "# Feature Engineering\n",
    "\n",
    "# Drop ID\n",
    "df.drop(['Id'], axis=1, inplace=True)\n",
    "\n",
    "# Encode categoricals\n",
    "categorical = df.select_dtypes(include='object').columns\n",
    "df = pd.get_dummies(df, columns=categorical)\n"
   ]
  },
  {
   "cell_type": "markdown",
   "metadata": {
    "id": "x-8bvDhAMyuz"
   },
   "source": [
    "Next, we will **scale the features** so they have equal weight in model training. `StandardScaler ` standardizes the features converting their `mean` = `0` and `standard deviation` = `1`. Without scaling, features with larger variance could dominate and skew the model."
   ]
  },
  {
   "cell_type": "code",
   "execution_count": 87,
   "metadata": {
    "executionInfo": {
     "elapsed": 33,
     "status": "ok",
     "timestamp": 1745674609249,
     "user": {
      "displayName": "Usama Versiani",
      "userId": "15766572443719872235"
     },
     "user_tz": -240
    },
    "id": "MIcfDGfSwMFC"
   },
   "outputs": [],
   "source": [
    "#Feature Scaling\n",
    "\n",
    "# Separate features and target\n",
    "X = df.drop('SalePrice', axis=1)\n",
    "y = df['SalePrice']\n",
    "\n",
    "scaler = StandardScaler()\n",
    "X_scaled = scaler.fit_transform(X)\n"
   ]
  },
  {
   "cell_type": "markdown",
   "metadata": {
    "id": "1ecVXVGNNZk1"
   },
   "source": [
    "Once preprocessing is complete, we will split the data into training and test set"
   ]
  },
  {
   "cell_type": "code",
   "execution_count": 88,
   "metadata": {
    "executionInfo": {
     "elapsed": 20,
     "status": "ok",
     "timestamp": 1745674611282,
     "user": {
      "displayName": "Usama Versiani",
      "userId": "15766572443719872235"
     },
     "user_tz": -240
    },
    "id": "OuOcybvQwW9e"
   },
   "outputs": [],
   "source": [
    "# Train - Test Split\n",
    "\n",
    "X_train, X_test, y_train, y_test = train_test_split(X_scaled, y, test_size=0.2, random_state=42)\n"
   ]
  },
  {
   "cell_type": "markdown",
   "metadata": {
    "id": "b_RdAybkNku1"
   },
   "source": [
    "to reduce repetitive the calculation, let's beuild a function to evaluate model performance"
   ]
  },
  {
   "cell_type": "code",
   "execution_count": 89,
   "metadata": {
    "executionInfo": {
     "elapsed": 1,
     "status": "ok",
     "timestamp": 1745674613265,
     "user": {
      "displayName": "Usama Versiani",
      "userId": "15766572443719872235"
     },
     "user_tz": -240
    },
    "id": "fodPeMMIwtlc"
   },
   "outputs": [],
   "source": [
    "# Performance metric\n",
    "def rmse(y_true, y_pred):\n",
    "    return np.sqrt(mean_squared_error(y_true, y_pred))\n"
   ]
  },
  {
   "cell_type": "markdown",
   "metadata": {
    "id": "fak9HGssTqqH"
   },
   "source": [
    "\n",
    "\n",
    "---\n",
    "\n"
   ]
  },
  {
   "cell_type": "markdown",
   "metadata": {
    "id": "-MylDMPzazMZ"
   },
   "source": [
    "## **Step 4: Model Training & Evaluation**"
   ]
  },
  {
   "cell_type": "markdown",
   "metadata": {
    "id": "A8SG72SzNwo5"
   },
   "source": [
    "### Linear Regression\n",
    "Let's train our first model, **Linear Regression**\n",
    "\n"
   ]
  },
  {
   "cell_type": "code",
   "execution_count": 90,
   "metadata": {
    "colab": {
     "base_uri": "https://localhost:8080/"
    },
    "executionInfo": {
     "elapsed": 64,
     "status": "ok",
     "timestamp": 1745674614902,
     "user": {
      "displayName": "Usama Versiani",
      "userId": "15766572443719872235"
     },
     "user_tz": -240
    },
    "id": "K_CSGVSTwzqS",
    "outputId": "cdea8580-70c2-44f0-eb5b-cda8c045658b"
   },
   "outputs": [
    {
     "name": "stdout",
     "output_type": "stream",
     "text": [
      "Linear Regression RMSE: 23166.85773198375\n",
      "Linear Regression R2:  0.9300286216417912\n"
     ]
    }
   ],
   "source": [
    "# Linear Regression\n",
    "lr = LinearRegression()\n",
    "lr.fit(X_train, y_train)\n",
    "y_pred_lr = lr.predict(X_test)\n",
    "\n",
    "# in dollars\n",
    "y_test_dollars = np.expm1(y_test)\n",
    "y_pred_lr_dollars = np.expm1(y_pred_lr)\n",
    "\n",
    "print(\"Linear Regression RMSE:\", rmse(y_test_dollars, y_pred_lr_dollars))\n",
    "r2 = r2_score(y_test_dollars, y_pred_lr_dollars)\n",
    "print(\"Linear Regression R2: \", r2)"
   ]
  },
  {
   "cell_type": "markdown",
   "metadata": {
    "id": "-KsI7VWWTxkd"
   },
   "source": [
    "\n",
    "\n",
    "---\n",
    "\n"
   ]
  },
  {
   "cell_type": "markdown",
   "metadata": {
    "id": "mSTHsAeCIxNb"
   },
   "source": [
    "### Lasso Regression\n",
    "Let's train our second model, **Lasso Regression**\n",
    "\n",
    "To find the best alpha, we perform **hyperparameter tuning** using `GridSearchCV`\n",
    "\n",
    "We will start by coarse tuning to search over a wide range of parameter values"
   ]
  },
  {
   "cell_type": "code",
   "execution_count": 91,
   "metadata": {
    "colab": {
     "base_uri": "https://localhost:8080/"
    },
    "executionInfo": {
     "elapsed": 2820,
     "status": "ok",
     "timestamp": 1745674619687,
     "user": {
      "displayName": "Usama Versiani",
      "userId": "15766572443719872235"
     },
     "user_tz": -240
    },
    "id": "JBLScQrcxN-9",
    "outputId": "3428476c-aa87-4eeb-f454-b96d9731bc0b"
   },
   "outputs": [
    {
     "name": "stderr",
     "output_type": "stream",
     "text": [
      "/usr/local/lib/python3.11/dist-packages/sklearn/linear_model/_coordinate_descent.py:695: ConvergenceWarning: Objective did not converge. You might want to increase the number of iterations, check the scale of the features or consider increasing regularisation. Duality gap: 2.548e-02, tolerance: 1.428e-02\n",
      "  model = cd_fast.enet_coordinate_descent(\n"
     ]
    },
    {
     "name": "stdout",
     "output_type": "stream",
     "text": [
      "              params  mean_test_score\n",
      "0  {'alpha': 0.0001}         0.162896\n",
      "1   {'alpha': 0.001}         0.153461\n",
      "2    {'alpha': 0.01}         0.151238\n",
      "3     {'alpha': 0.1}         0.222146\n",
      "4       {'alpha': 1}         0.390941\n",
      "5      {'alpha': 10}         0.390941\n",
      "Best alpha: 0.01\n",
      "Lasso RMSE: 24648.532726771093\n",
      "Lasso R2: 0.9207921346274128\n",
      "Lasso RMSE(model): 0.13793200252814802\n",
      "Lasso R2(model): 0.8980486762045731\n"
     ]
    }
   ],
   "source": [
    "# Define the parameter grid for alpha\n",
    "param_grid = {\n",
    "    'alpha': [0.0001, 0.001, 0.01, 0.1, 1, 10]\n",
    "}\n",
    "\n",
    "# Create the Lasso model\n",
    "lasso = Lasso()\n",
    "\n",
    "# Perform GridSearchCV\n",
    "grid_search = GridSearchCV(lasso, param_grid, cv=5, scoring='neg_mean_squared_error')\n",
    "grid_search.fit(X_train, y_train)\n",
    "\n",
    "# Hyper parameter tuning results\n",
    "results = pd.DataFrame(grid_search.cv_results_)\n",
    "results[\"mean_test_score\"] = np.sqrt(-results[\"mean_test_score\"])\n",
    "print(results[['params', 'mean_test_score']])\n",
    "print(\"Best alpha:\", grid_search.best_params_['alpha'])\n",
    "\n",
    "# Get the best model\n",
    "best_lasso = grid_search.best_estimator_\n",
    "\n",
    "# Predict and evaluate\n",
    "y_pred_lasso = best_lasso.predict(X_test)\n",
    "# in dollars\n",
    "y_test_dollars = np.expm1(y_test)\n",
    "y_pred_lasso_dollars = np.expm1(y_pred_lasso)\n",
    "\n",
    "#model perfromance\n",
    "rmse_model = rmse(y_test, y_pred_lasso)\n",
    "r2_model = r2_score(y_test, y_pred_lasso)\n",
    "\n",
    "# calculate performance in dollars\n",
    "rmse_lasso = rmse(y_test_dollars, y_pred_lasso_dollars)\n",
    "r2 = r2_score(y_test_dollars, y_pred_lasso_dollars)\n",
    "\n",
    "# Model Performance Results in dollars\n",
    "print(\"Lasso RMSE:\", rmse_lasso)\n",
    "print(\"Lasso R2:\", r2)\n",
    "\n",
    "# Model Performance Results\n",
    "print(\"Lasso RMSE(model):\", rmse_model)\n",
    "print(\"Lasso R2(model):\", r2_model)"
   ]
  },
  {
   "cell_type": "markdown",
   "metadata": {
    "id": "Y0O_VzhUS0sy"
   },
   "source": [
    "It appears that best parameter `alpha` is around `0.01`.\n",
    "\n",
    "Next we will fine tune our model and zoom in around the promising values to find the best parameter value"
   ]
  },
  {
   "cell_type": "code",
   "execution_count": 92,
   "metadata": {
    "colab": {
     "base_uri": "https://localhost:8080/"
    },
    "executionInfo": {
     "elapsed": 671,
     "status": "ok",
     "timestamp": 1745674622384,
     "user": {
      "displayName": "Usama Versiani",
      "userId": "15766572443719872235"
     },
     "user_tz": -240
    },
    "id": "sh8lyPCjRBD5",
    "outputId": "eaf0bd1f-7f2f-43e8-a5d4-e3db066f0e13"
   },
   "outputs": [
    {
     "name": "stdout",
     "output_type": "stream",
     "text": [
      "             params  mean_test_score\n",
      "0  {'alpha': 0.005}         0.149837\n",
      "1   {'alpha': 0.01}         0.151238\n",
      "2  {'alpha': 0.015}         0.155004\n",
      "3   {'alpha': 0.02}         0.159338\n",
      "4  {'alpha': 0.025}         0.163489\n",
      "5   {'alpha': 0.03}         0.167505\n",
      "6  {'alpha': 0.035}         0.171282\n",
      "Best alpha: 0.005\n",
      "Lasso RMSE: 22651.80077412642\n",
      "Lasso R2: 0.9331053120231141\n",
      "Lasso RMSE(model): 0.12709440194318752\n",
      "Lasso R2(model): 0.9134403224192235\n"
     ]
    }
   ],
   "source": [
    "# Define the parameter grid for alpha\n",
    "param_grid = {\n",
    "    'alpha': [0.005,0.01, 0.015, 0.02, 0.025, 0.03, 0.035]\n",
    "}\n",
    "\n",
    "# Create the Lasso model\n",
    "lasso = Lasso()\n",
    "\n",
    "# Perform GridSearchCV\n",
    "grid_search = GridSearchCV(lasso, param_grid, cv=5, scoring='neg_mean_squared_error')\n",
    "grid_search.fit(X_train, y_train)\n",
    "\n",
    "# Hyper parameter tuning results\n",
    "results = pd.DataFrame(grid_search.cv_results_)\n",
    "results[\"mean_test_score\"] = np.sqrt(-results[\"mean_test_score\"])\n",
    "print(results[['params', 'mean_test_score']])\n",
    "print(\"Best alpha:\", grid_search.best_params_['alpha'])\n",
    "\n",
    "# Get the best model\n",
    "best_lasso = grid_search.best_estimator_\n",
    "\n",
    "# Predict and evaluate\n",
    "y_pred_lasso = best_lasso.predict(X_test)\n",
    "# in dollars\n",
    "y_test_dollars = np.expm1(y_test)\n",
    "y_pred_lasso_dollars = np.expm1(y_pred_lasso)\n",
    "\n",
    "#model perfromance\n",
    "rmse_model = rmse(y_test, y_pred_lasso)\n",
    "r2_model = r2_score(y_test, y_pred_lasso)\n",
    "\n",
    "# calculate performance in dollars\n",
    "rmse_lasso = rmse(y_test_dollars, y_pred_lasso_dollars)\n",
    "r2 = r2_score(y_test_dollars, y_pred_lasso_dollars)\n",
    "\n",
    "# Model Performance Results in dollars\n",
    "print(\"Lasso RMSE:\", rmse_lasso)\n",
    "print(\"Lasso R2:\", r2)\n",
    "\n",
    "# Model Performance Results\n",
    "print(\"Lasso RMSE(model):\", rmse_model)\n",
    "print(\"Lasso R2(model):\", r2_model)"
   ]
  },
  {
   "cell_type": "markdown",
   "metadata": {
    "id": "g9HXzO33UkiE"
   },
   "source": [
    "with hyperparameter tuning, we were successfully able to enhance model performance bringing RMSE from `$24,648` to `$22,651` and $R^2$ score from `0.920` to `0.933`"
   ]
  },
  {
   "cell_type": "markdown",
   "metadata": {
    "id": "mpcEyOSOTl47"
   },
   "source": [
    "\n",
    "\n",
    "---\n",
    "\n"
   ]
  },
  {
   "cell_type": "markdown",
   "metadata": {
    "id": "kCKpYbeaVRcs"
   },
   "source": [
    "### Ridge Regression\n",
    "Let's train our third model, **Ridge Regression**\n",
    "\n",
    "We will start by coarse tuning to search over a wide range of parameter values"
   ]
  },
  {
   "cell_type": "code",
   "execution_count": 93,
   "metadata": {
    "colab": {
     "base_uri": "https://localhost:8080/"
    },
    "executionInfo": {
     "elapsed": 1042,
     "status": "ok",
     "timestamp": 1745674628702,
     "user": {
      "displayName": "Usama Versiani",
      "userId": "15766572443719872235"
     },
     "user_tz": -240
    },
    "id": "AbfpqZIpVa5z",
    "outputId": "e69ffe8a-360e-4bce-9afb-563873232d2d"
   },
   "outputs": [
    {
     "name": "stdout",
     "output_type": "stream",
     "text": [
      "             params  mean_test_score\n",
      "0  {'alpha': 0.001}         0.152312\n",
      "1   {'alpha': 0.01}         0.152729\n",
      "2    {'alpha': 0.1}         0.156415\n",
      "3      {'alpha': 1}         0.164399\n",
      "4     {'alpha': 10}         0.162816\n",
      "Best alpha: 0.001\n",
      "Ridge RMSE: 23161.914172339402\n",
      "Ridge R2: 0.9300584807430826\n",
      "Ridge RMSE(model): 0.13624158012947876\n",
      "Ridge R2(model): 0.9005322875328885\n"
     ]
    }
   ],
   "source": [
    "# Define the parameter grid for alpha\n",
    "param_grid = {\n",
    "    'alpha': [0.001, 0.01, 0.1, 1, 10]\n",
    "}\n",
    "\n",
    "# Create the Ridge model\n",
    "ridge = Ridge()\n",
    "\n",
    "# Perform GridSearchCV\n",
    "grid_search = GridSearchCV(ridge, param_grid, cv=5, scoring='neg_mean_squared_error')\n",
    "grid_search.fit(X_train, y_train)\n",
    "\n",
    "# Hyper parameter tuning results\n",
    "results = pd.DataFrame(grid_search.cv_results_)\n",
    "results[\"mean_test_score\"] = np.sqrt(-results[\"mean_test_score\"])\n",
    "print(results[['params', 'mean_test_score']])\n",
    "print(\"Best alpha:\", grid_search.best_params_['alpha'])\n",
    "\n",
    "# Get the best model\n",
    "best_ridge = grid_search.best_estimator_\n",
    "\n",
    "# Predict and evaluate\n",
    "y_pred_ridge = best_ridge.predict(X_test)\n",
    "# in dollars\n",
    "y_test_dollars = np.expm1(y_test)\n",
    "y_pred_ridge_dollars = np.expm1(y_pred_ridge)\n",
    "\n",
    "#model perfromance\n",
    "rmse_model = rmse(y_test, y_pred_ridge)\n",
    "r2_model = r2_score(y_test, y_pred_ridge)\n",
    "\n",
    "# calculate performance in dollars\n",
    "rmse_ridge = rmse(y_test_dollars, y_pred_ridge_dollars)\n",
    "r2 = r2_score(y_test_dollars, y_pred_ridge_dollars)\n",
    "\n",
    "# Model Performance Results in dollars\n",
    "print(\"Ridge RMSE:\", rmse_ridge)\n",
    "print(\"Ridge R2:\", r2)\n",
    "\n",
    "# Model Performance Results\n",
    "print(\"Ridge RMSE(model):\", rmse_model)\n",
    "print(\"Ridge R2(model):\", r2_model)"
   ]
  },
  {
   "cell_type": "markdown",
   "metadata": {
    "id": "UVy-FpWMXGHm"
   },
   "source": [
    "It appears that best parameter alpha is around 0.001.\n",
    "\n",
    "Next we will fine tune our model and zoom in around the promising values to find the best parameter value"
   ]
  },
  {
   "cell_type": "code",
   "execution_count": 94,
   "metadata": {
    "colab": {
     "base_uri": "https://localhost:8080/"
    },
    "executionInfo": {
     "elapsed": 2787,
     "status": "ok",
     "timestamp": 1745674633663,
     "user": {
      "displayName": "Usama Versiani",
      "userId": "15766572443719872235"
     },
     "user_tz": -240
    },
    "id": "fOV1vHjexO_3",
    "outputId": "d72dfa79-6933-47e5-e7c7-0801f2bc7579"
   },
   "outputs": [
    {
     "name": "stdout",
     "output_type": "stream",
     "text": [
      "              params  mean_test_score\n",
      "0  {'alpha': 0.0005}         0.152289\n",
      "1   {'alpha': 0.001}         0.152312\n",
      "2  {'alpha': 0.0015}         0.152334\n",
      "3   {'alpha': 0.002}         0.152357\n",
      "4  {'alpha': 0.0025}         0.152381\n",
      "Best alpha: 0.0005\n",
      "Ridge RMSE: 23164.379558729328\n",
      "Ridge R2: 0.9300435906053003\n",
      "Ridge RMSE(model): 0.13629245422391625\n",
      "Ridge R2(model): 0.9004579890025288\n"
     ]
    }
   ],
   "source": [
    "# Define the parameter grid for alpha\n",
    "param_grid = {\n",
    "    'alpha': [0.0005, 0.001, 0.0015, 0.002, 0.0025]\n",
    "}\n",
    "\n",
    "# Create the Ridge model\n",
    "ridge = Ridge()\n",
    "\n",
    "# Perform GridSearchCV\n",
    "grid_search = GridSearchCV(ridge, param_grid, cv=5, scoring='neg_mean_squared_error')\n",
    "grid_search.fit(X_train, y_train)\n",
    "\n",
    "# Hyper parameter tuning results\n",
    "results = pd.DataFrame(grid_search.cv_results_)\n",
    "results[\"mean_test_score\"] = np.sqrt(-results[\"mean_test_score\"])\n",
    "print(results[['params', 'mean_test_score']])\n",
    "print(\"Best alpha:\", grid_search.best_params_['alpha'])\n",
    "\n",
    "# Get the best model\n",
    "best_ridge = grid_search.best_estimator_\n",
    "\n",
    "# Predict and evaluate\n",
    "y_pred_ridge = best_ridge.predict(X_test)\n",
    "# in dollars\n",
    "y_test_dollars = np.expm1(y_test)\n",
    "y_pred_ridge_dollars = np.expm1(y_pred_ridge)\n",
    "\n",
    "#model perfromance\n",
    "rmse_model = rmse(y_test, y_pred_ridge)\n",
    "r2_model = r2_score(y_test, y_pred_ridge)\n",
    "\n",
    "# calculate performance in dollars\n",
    "rmse_ridge = rmse(y_test_dollars, y_pred_ridge_dollars)\n",
    "r2 = r2_score(y_test_dollars, y_pred_ridge_dollars)\n",
    "\n",
    "# Model Performance Results in dollars\n",
    "print(\"Ridge RMSE:\", rmse_ridge)\n",
    "print(\"Ridge R2:\", r2)\n",
    "\n",
    "# Model Performance Results\n",
    "print(\"Ridge RMSE(model):\", rmse_model)\n",
    "print(\"Ridge R2(model):\", r2_model)"
   ]
  },
  {
   "cell_type": "markdown",
   "metadata": {
    "id": "TOJ9yskaXdqC"
   },
   "source": [
    "It appears that `alpha` = `0.0005` gives better RMSE on training set, but `alpha` = `0.001` performs better for test set."
   ]
  },
  {
   "cell_type": "markdown",
   "metadata": {
    "id": "DmjdmDWuYSo8"
   },
   "source": [
    "\n",
    "\n",
    "---\n",
    "\n"
   ]
  },
  {
   "cell_type": "markdown",
   "metadata": {
    "id": "k6ZsDVtaYVRi"
   },
   "source": [
    "### Random Forest Regressor\n",
    "Let's train our fourth model, **Random Forest Regressor**\n",
    "\n",
    "We will start by coarse tuning to search over a wide range of parameter values\n",
    "\n",
    "we will search over the following parameters\n",
    "\n",
    "`n_estimators`: Number of trees.\n",
    "\n",
    "`max_depth`: Depth of the trees.\n",
    "\n",
    "`max_features`: Number of features to consider at each split.\n",
    "\n",
    "`min_samples_split`: Minimum number of samples required to split an internal node\n",
    "\n",
    "`min_samples_leaf`: Minimum number of samples at a leaf node"
   ]
  },
  {
   "cell_type": "code",
   "execution_count": null,
   "metadata": {
    "colab": {
     "base_uri": "https://localhost:8080/"
    },
    "executionInfo": {
     "elapsed": 171237,
     "status": "ok",
     "timestamp": 1745663508495,
     "user": {
      "displayName": "Usama Versiani",
      "userId": "15766572443719872235"
     },
     "user_tz": -240
    },
    "id": "B0DxMT2yxYaz",
    "outputId": "1eb93a90-881a-4e93-a875-9fdf256d184a"
   },
   "outputs": [
    {
     "name": "stdout",
     "output_type": "stream",
     "text": [
      "                                                                                                              params  \\\n",
      "0   {'max_depth': None, 'max_features': 'sqrt', 'min_samples_leaf': 1, 'min_samples_split': 2, 'n_estimators': 1000}   \n",
      "1   {'max_depth': None, 'max_features': 'sqrt', 'min_samples_leaf': 1, 'min_samples_split': 5, 'n_estimators': 1000}   \n",
      "2  {'max_depth': None, 'max_features': 'sqrt', 'min_samples_leaf': 1, 'min_samples_split': 10, 'n_estimators': 1000}   \n",
      "3   {'max_depth': None, 'max_features': 'sqrt', 'min_samples_leaf': 2, 'min_samples_split': 2, 'n_estimators': 1000}   \n",
      "4   {'max_depth': None, 'max_features': 'sqrt', 'min_samples_leaf': 2, 'min_samples_split': 5, 'n_estimators': 1000}   \n",
      "5  {'max_depth': None, 'max_features': 'sqrt', 'min_samples_leaf': 2, 'min_samples_split': 10, 'n_estimators': 1000}   \n",
      "6   {'max_depth': None, 'max_features': 'sqrt', 'min_samples_leaf': 4, 'min_samples_split': 2, 'n_estimators': 1000}   \n",
      "7   {'max_depth': None, 'max_features': 'sqrt', 'min_samples_leaf': 4, 'min_samples_split': 5, 'n_estimators': 1000}   \n",
      "8  {'max_depth': None, 'max_features': 'sqrt', 'min_samples_leaf': 4, 'min_samples_split': 10, 'n_estimators': 1000}   \n",
      "\n",
      "   mean_test_score  \n",
      "0         0.147535  \n",
      "1         0.148774  \n",
      "2         0.151345  \n",
      "3         0.151040  \n",
      "4         0.151755  \n",
      "5         0.154297  \n",
      "6         0.157817  \n",
      "7         0.157817  \n",
      "8         0.158560  \n",
      "Best Params: {'max_depth': None, 'max_features': 'sqrt', 'min_samples_leaf': 1, 'min_samples_split': 2, 'n_estimators': 1000}\n",
      "Random Forest RMSE (fine-tuned): 34884.672921988764\n",
      "Random Forest R2 (fine-tuned): 0.8413443741501037\n",
      "Random Forest RMSE(model): 0.13629245422391625\n",
      "Random Forest R2(model): 0.9004579890025288\n"
     ]
    }
   ],
   "source": [
    "# Resplitting unscaled features\n",
    "# Train - Test Split\n",
    "\n",
    "X_train, X_test, y_train, y_test = train_test_split(X, y, test_size=0.2, random_state=42)\n",
    "\n",
    "# Define coarse parameter grid\n",
    "param_grid = {\n",
    "    'n_estimators': [1000],\n",
    "    'max_depth': [None],\n",
    "    'max_features': ['sqrt'],\n",
    "    'min_samples_split': [2, 5, 10],\n",
    "    'min_samples_leaf': [1, 2, 4],\n",
    "}\n",
    "\n",
    "# Coarse Grid Search\n",
    "rf = RandomForestRegressor(random_state=42)\n",
    "grid_search = GridSearchCV(rf, param_grid, cv=5, scoring='neg_mean_squared_error', n_jobs=-1)\n",
    "grid_search.fit(X_train, y_train)\n",
    "\n",
    "# Hyper parameter tuning results\n",
    "results = pd.DataFrame(grid_search.cv_results_)\n",
    "results[\"mean_test_score\"] = np.sqrt(-results[\"mean_test_score\"])\n",
    "print(results[['params', 'mean_test_score']])\n",
    "print(\"Best Params:\", grid_search.best_params_)\n",
    "\n",
    "# Evaluate the best model\n",
    "best_rf = grid_search.best_estimator_\n",
    "y_pred_rf = best_rf.predict(X_test)\n",
    "\n",
    "# in dollars\n",
    "y_test_dollars = np.expm1(y_test)\n",
    "y_pred_rf_dollars = np.expm1(y_pred_rf)\n",
    "\n",
    "#model perfromance\n",
    "rmse_model = rmse(y_test, y_pred_ridge)\n",
    "r2_model = r2_score(y_test, y_pred_ridge)\n",
    "\n",
    "# calculate performance\n",
    "rmse_rf = rmse(y_test_dollars, y_pred_rf_dollars)\n",
    "r2_rf = r2_score(y_test_dollars, y_pred_rf_dollars)\n",
    "\n",
    "# Model Performance Results in dollars\n",
    "print(\"Random Forest RMSE (fine-tuned):\", rmse_rf)\n",
    "print(\"Random Forest R2 (fine-tuned):\", r2_rf)\n",
    "\n",
    "# Model Performance Results\n",
    "print(\"Random Forest RMSE(model):\", rmse_model)\n",
    "print(\"Random Forest R2(model):\", r2_model)"
   ]
  },
  {
   "cell_type": "markdown",
   "metadata": {
    "id": "Ya7qwSF_fsbH"
   },
   "source": [
    "It appears that best parameters are:\n",
    "\n",
    "`'max_depth'`: `None`\n",
    "\n",
    "`'max_features'`: `'sqrt'`\n",
    "\n",
    "`'min_samples_leaf'`: `1`\n",
    "\n",
    "`'min_samples_split'`: `2`\n",
    "\n",
    "`'n_estimators'`: `1000`\n",
    "\n",
    "However, results show that even though log transformed RMSE seems good, the RMSE (in dollars) is quite higher compared to that with lasso or ridge regression."
   ]
  },
  {
   "cell_type": "markdown",
   "metadata": {
    "id": "DxYSKse31pEn"
   },
   "source": [
    "### Conclusion\n",
    "After evaluating multiple models, we can conclude that **Lasso Regression** with `alpha = 0.005` gives the best results with least RMSE value in dollars."
   ]
  },
  {
   "cell_type": "markdown",
   "metadata": {
    "id": "1lI4umGQc3-F"
   },
   "source": [
    "\n",
    "\n",
    "---\n",
    "\n"
   ]
  },
  {
   "cell_type": "markdown",
   "metadata": {
    "id": "AesBiuGuc5hg"
   },
   "source": [
    "## **Step 5: Predicting House Prices Using Unseen Test Data**"
   ]
  },
  {
   "cell_type": "markdown",
   "metadata": {
    "id": "tMH8LVHc1-3F"
   },
   "source": [
    "Finally, we can now train a Lasso Regression model with ideal parameters on the entire training data instead of spliting the data and then predicting the prices using the test data"
   ]
  },
  {
   "cell_type": "code",
   "execution_count": 76,
   "metadata": {
    "colab": {
     "base_uri": "https://localhost:8080/"
    },
    "executionInfo": {
     "elapsed": 596,
     "status": "ok",
     "timestamp": 1745674421005,
     "user": {
      "displayName": "Usama Versiani",
      "userId": "15766572443719872235"
     },
     "user_tz": -240
    },
    "id": "22gipOPHOA9Y",
    "outputId": "e36659db-eda4-482a-9567-21d48a9cba9c"
   },
   "outputs": [
    {
     "name": "stdout",
     "output_type": "stream",
     "text": [
      "✅ Submission file created successfully!\n"
     ]
    }
   ],
   "source": [
    "\n",
    "# Load datasets\n",
    "train = pd.read_csv('train.csv')\n",
    "test = pd.read_csv('test.csv')\n",
    "\n",
    "# Type correction\n",
    "train['MSSubClass'] = train['MSSubClass'].astype(str)\n",
    "test['MSSubClass'] = test['MSSubClass'].astype(str)\n",
    "\n",
    "# Log transform target (SalePrice)\n",
    "train['SalePrice'] = np.log1p(train['SalePrice'])\n",
    "\n",
    "# Handle missing values\n",
    "# For train\n",
    "cat_cols_train = train.select_dtypes(include=['object']).columns\n",
    "num_cols_train = train.select_dtypes(exclude=['object']).columns\n",
    "\n",
    "train[cat_cols_train] = train[cat_cols_train].fillna('None')\n",
    "train[num_cols_train] = train[num_cols_train].fillna(train[num_cols_train].median())\n",
    "\n",
    "# For test\n",
    "cat_cols_test = test.select_dtypes(include=['object']).columns\n",
    "num_cols_test = test.select_dtypes(exclude=['object']).columns\n",
    "\n",
    "test[cat_cols_test] = test[cat_cols_test].fillna('None')\n",
    "test[num_cols_test] = test[num_cols_test].fillna(test[num_cols_test].median())\n",
    "\n",
    "# Prepare features and target\n",
    "X = train.drop(['SalePrice', 'Id'], axis=1)\n",
    "y = train['SalePrice']\n",
    "X_test = test.drop(['Id'], axis=1)\n",
    "\n",
    "# One-hot encoding\n",
    "X = pd.get_dummies(X)\n",
    "X_test = pd.get_dummies(X_test)\n",
    "\n",
    "# Align train and test data\n",
    "X, X_test = X.align(X_test, join='left', axis=1, fill_value=0)\n",
    "\n",
    "# Scaling\n",
    "scaler = StandardScaler()\n",
    "X_scaled = scaler.fit_transform(X)\n",
    "X_test_scaled = scaler.transform(X_test)\n",
    "\n",
    "# Train the model\n",
    "lasso = Lasso(alpha=0.005)\n",
    "lasso.fit(X_scaled, y)\n",
    "\n",
    "# Predict\n",
    "y_pred_log = lasso.predict(X_test_scaled)\n",
    "\n",
    "# Since target was log-transformed, apply inverse transform\n",
    "y_pred = np.expm1(y_pred_log)\n",
    "\n",
    "# Create submission file\n",
    "submission = pd.DataFrame({\n",
    "    'Id': test['Id'],\n",
    "    'SalePrice': y_pred\n",
    "})\n",
    "\n",
    "submission.to_csv('submission.csv', index=False)\n",
    "\n",
    "print(\"✅ Submission file created successfully!\")\n"
   ]
  }
 ],
 "metadata": {
  "colab": {
   "authorship_tag": "ABX9TyOiLZ4kQ61BDbTeebcgNXbf",
   "mount_file_id": "1jlgE-NyJ1Myw53ue02LYBcVTovp66P9v",
   "provenance": []
  },
  "kernelspec": {
   "display_name": "Python 3 (ipykernel)",
   "language": "python",
   "name": "python3"
  },
  "language_info": {
   "codemirror_mode": {
    "name": "ipython",
    "version": 3
   },
   "file_extension": ".py",
   "mimetype": "text/x-python",
   "name": "python",
   "nbconvert_exporter": "python",
   "pygments_lexer": "ipython3",
   "version": "3.12.7"
  }
 },
 "nbformat": 4,
 "nbformat_minor": 4
}
